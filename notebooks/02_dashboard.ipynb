{
 "cells": [
  {
   "cell_type": "markdown",
   "metadata": {},
   "source": [
    "## Importing libs and setting plotting parameters"
   ]
  },
  {
   "cell_type": "code",
   "execution_count": 7,
   "metadata": {
    "ExecuteTime": {
     "end_time": "2021-04-03T16:59:18.421826Z",
     "start_time": "2021-04-03T16:59:17.926555Z"
    }
   },
   "outputs": [],
   "source": [
    "import pandas as pd\n",
    "import numpy as np\n",
    "import pickle\n",
    "import plotly.express as px\n",
    "from jupyter_dash import JupyterDash\n",
    "import dash_core_components as dcc\n",
    "import dash_html_components as html\n",
    "from dash.dependencies import Input, Output\n",
    "from datetime import timedelta, datetime"
   ]
  },
  {
   "cell_type": "code",
   "execution_count": 8,
   "metadata": {},
   "outputs": [],
   "source": [
    "df = pd.read_parquet('../data/train.parquet')"
   ]
  },
  {
   "cell_type": "markdown",
   "metadata": {},
   "source": [
    "## Organizing db to optimize the queries speed.\n",
    "\n",
    "#### Here the idea is to generate a DataFrame containing the constant atributes of a loan where each row is going to represent a loan from a single company. Sequentialy, a dictionary is going to be generate where the key is the id of the loan and the value is a DataFrame with the history of the loan. This operation optimizes the generation of graphs for the dashboard."
   ]
  },
  {
   "cell_type": "code",
   "execution_count": 14,
   "metadata": {
    "scrolled": true
   },
   "outputs": [
    {
     "name": "stdout",
     "output_type": "stream",
     "text": [
      "CPU times: user 4min 13s, sys: 159 ms, total: 4min 14s\n",
      "Wall time: 4min 14s\n"
     ]
    }
   ],
   "source": [
    "%%time\n",
    "#this loop takes approximately 4 mins to run\n",
    "id_column_name = ['id']\n",
    "constant_attributes = ['desembolso', 'vencimento', 'valor_emprestado', 'pgto_diario_esperado', 'subsegmento', 'y']\n",
    "timeseries_attributes = ['dia', 'dias_pos_desembolso', 'divida_total', 'divida_principal', 'pagamento_diario', 'amortizacao_principal_diario',\n",
    "                        'transacionado']\n",
    "\n",
    "unique_index = np.unique(df[id_column_name])\n",
    "unique_index.sort()\n",
    "\n",
    "df_constant_attributes = pd.DataFrame(\n",
    "    columns=constant_attributes, index=unique_index.astype(int)\n",
    ")\n",
    "\n",
    "company_ids_in_df = df[id_column_name].to_numpy()\n",
    "history_loan = dict.fromkeys(set(unique_index))\n",
    "history_loan.update(dict(history_loan))\n",
    "\n",
    "for idx in unique_index:\n",
    "    idx_boolean_list = company_ids_in_df == idx\n",
    "    tmp_df = df.loc[idx_boolean_list]\n",
    "    df_constant_attributes.loc[idx] = tmp_df[constant_attributes].iloc[-1]\n",
    "    history_loan[idx] = tmp_df[timeseries_attributes].reset_index(drop=True)"
   ]
  },
  {
   "cell_type": "code",
   "execution_count": 15,
   "metadata": {},
   "outputs": [],
   "source": [
    "# null values in subsegmento are filled with `N/A`\n",
    "df_constant_attributes['subsegmento'] = df_constant_attributes['subsegmento'].fillna('N/A')\n",
    "\n",
    "# index of the constant dataframe is set to id\n",
    "df_constant_attributes.index = df.id.astype(int)\n",
    "df_constant_attributes.drop(columns='id', inplace=True)"
   ]
  },
  {
   "cell_type": "markdown",
   "metadata": {},
   "source": [
    "### Building App"
   ]
  },
  {
   "cell_type": "code",
   "execution_count": 44,
   "metadata": {
    "ExecuteTime": {
     "start_time": "2021-04-03T17:06:41.524Z"
    }
   },
   "outputs": [
    {
     "data": {
      "text/html": [
       "\n",
       "        <iframe\n",
       "            width=\"100%\"\n",
       "            height=\"650\"\n",
       "            src=\"http://127.0.0.1:8080/\"\n",
       "            frameborder=\"0\"\n",
       "            allowfullscreen\n",
       "        ></iframe>\n",
       "        "
      ],
      "text/plain": [
       "<IPython.lib.display.IFrame at 0x7f3564163190>"
      ]
     },
     "metadata": {},
     "output_type": "display_data"
    }
   ],
   "source": [
    "app = JupyterDash(__name__, assets_folder='../assets')\n",
    "\n",
    "app.layout = html.Div([\n",
    "    html.Div(id='header-info', className='header-info'),\n",
    "    dcc.Dropdown(\n",
    "        id='company-id', clearable=False,\n",
    "        value=unique_index[0], options=[{'label': f'Loan ID: {index}', 'value': index}\n",
    "                                        for index in unique_index], className='dropdown-select-id'\n",
    "    ),\n",
    "    html.Div([\n",
    "        dcc.Graph(id='graph-debt', className='graph-id'),\n",
    "        dcc.Graph(id='graph-transaction-payment', className='graph-id')\n",
    "    ], className='container-graph-id'),\n",
    "\n",
    "    html.Div(id='table-const-id', className='table-hidden'),\n",
    "    html.Div(id='table-timeseries-id', className='table-hidden'),\n",
    "])\n",
    "\n",
    "\n",
    "@app.callback(\n",
    "    Output('table-const-id', 'children'),\n",
    "    Output('table-timeseries-id', 'children'),\n",
    "    Input('company-id', 'value')\n",
    ")\n",
    "def update_table(loan_id):\n",
    "    id_tmp_db_const = df_constant_attributes.loc[loan_id]\n",
    "    id_tmp_db_timeseries = history_loan[loan_id]\n",
    "\n",
    "    return id_tmp_db_const.to_json(date_format='iso', orient='split'), id_tmp_db_timeseries.to_json(date_format='iso', orient='split')\n",
    "\n",
    "\n",
    "def create_time_series(df, title):\n",
    "    fig = px.line(df, x='dia', y='value', color='variable', title=title)\n",
    "    fig.update_xaxes(showgrid=False)\n",
    "    fig.update_yaxes(title='Reais (R$)', visible=True, showticklabels=True)\n",
    "    fig.update_xaxes(title='', visible=True, showticklabels=True)\n",
    "    fig.update_layout(legend_orientation='h')\n",
    "    fig.update_layout(legend_title_text='')\n",
    "    fig.update_layout(height=300, margin={'l': 30, 'b': 30, 'r': 30, 't': 30})\n",
    "\n",
    "    day_first, _ = df['dia'].iloc[0].split('T')\n",
    "    day_ninety = datetime.strptime(day_first, '%Y-%m-%d') + timedelta(days=90)\n",
    "\n",
    "    fig.add_vline(x=day_ninety.timestamp() * 1000, line_width=3, line_dash=\"dash\",\n",
    "                  line_color=\"green\", annotation_text=\"90th day\", annotation_position=\"top right\")\n",
    "\n",
    "    return fig\n",
    "\n",
    "\n",
    "@app.callback(\n",
    "    Output('graph-debt', 'figure'),\n",
    "    Output('graph-transaction-payment', 'figure'),\n",
    "    Input('table-timeseries-id', 'children')\n",
    ")\n",
    "def update_figure(jsonified_db):\n",
    "    tmp_db = pd.read_json(jsonified_db, orient='split')\n",
    "\n",
    "    tmp_db_debt = pd.melt(tmp_db[['dia', 'divida_principal', 'divida_total']],\n",
    "                          id_vars=['dia'],\n",
    "                          value_vars=['divida_principal', 'divida_total'])\n",
    "\n",
    "    tmp_db_payment = pd.melt(tmp_db[['dia', 'transacionado', 'pagamento_diario', 'amortizacao_principal_diario']],\n",
    "                             id_vars=['dia'],\n",
    "                             value_vars=['transacionado', 'pagamento_diario', 'amortizacao_principal_diario'])\n",
    "\n",
    "    return create_time_series(tmp_db_debt, title=\"Loan Debt\"), create_time_series(tmp_db_payment, title=\"Transactions and Debt Payment\")\n",
    "\n",
    "\n",
    "@app.callback(\n",
    "    Output('header-info', 'children'),\n",
    "    Input('table-const-id', 'children')\n",
    ")\n",
    "def update_headers(jsonified_db):\n",
    "    tmp_db = pd.read_json(jsonified_db, orient='split', typ='series')\n",
    "    loan_contract, _ = tmp_db['desembolso'].split('T')\n",
    "    loan_overdue, _ = tmp_db['vencimento'].split('T')\n",
    "    subsegment = tmp_db['subsegmento']\n",
    "    valor_emprestado = tmp_db['valor_emprestado']\n",
    "    pgto_diario_esperado = tmp_db['pgto_diario_esperado']\n",
    "    default = 'Sim' if tmp_db['y'] else 'Nao'\n",
    "    return [\n",
    "        html.Div([\n",
    "            html.H4('Company Sector'),\n",
    "            html.H3(f'{subsegment}')], className='info-cards'),\n",
    "        html.Div([\n",
    "            html.H4('Default'),\n",
    "            html.H3(f'{default}')], className='info-cards'),\n",
    "        html.Div([\n",
    "            html.H4('Loan Value'),\n",
    "            html.H3(f'{valor_emprestado}')], className='info-cards'),\n",
    "        html.Div([\n",
    "            html.H4('Loan Contract'),\n",
    "            html.H3(f'{loan_contract}')], className='info-cards'),\n",
    "        html.Div([\n",
    "            html.H4('Expected Loan Over Due'),\n",
    "            html.H3(f'{loan_overdue}')], className='info-cards'),\n",
    "        html.Div([\n",
    "            html.H4('Expected Loan Daily Payment'),\n",
    "            html.H3(f'R$ {pgto_diario_esperado:.2f}')], className='info-cards')]\n",
    "\n",
    "\n",
    "# Run app and display result inline in the notebook\n",
    "app.run_server(mode='inline', port=8080, debug=True)"
   ]
  }
 ],
 "metadata": {
  "kernelspec": {
   "display_name": "venv",
   "language": "python",
   "name": "venv"
  },
  "language_info": {
   "codemirror_mode": {
    "name": "ipython",
    "version": 3
   },
   "file_extension": ".py",
   "mimetype": "text/x-python",
   "name": "python",
   "nbconvert_exporter": "python",
   "pygments_lexer": "ipython3",
   "version": "3.8.5"
  },
  "varInspector": {
   "cols": {
    "lenName": 16,
    "lenType": 16,
    "lenVar": 40
   },
   "kernels_config": {
    "python": {
     "delete_cmd_postfix": "",
     "delete_cmd_prefix": "del ",
     "library": "var_list.py",
     "varRefreshCmd": "print(var_dic_list())"
    },
    "r": {
     "delete_cmd_postfix": ") ",
     "delete_cmd_prefix": "rm(",
     "library": "var_list.r",
     "varRefreshCmd": "cat(var_dic_list()) "
    }
   },
   "position": {
    "height": "297.713px",
    "left": "892.804px",
    "right": "20px",
    "top": "120px",
    "width": "331.009px"
   },
   "types_to_exclude": [
    "module",
    "function",
    "builtin_function_or_method",
    "instance",
    "_Feature"
   ],
   "window_display": false
  }
 },
 "nbformat": 4,
 "nbformat_minor": 2
}
