{
 "cells": [
  {
   "cell_type": "markdown",
   "metadata": {},
   "source": [
    "## Importing libs and setting plotting parameters"
   ]
  },
  {
   "cell_type": "code",
   "execution_count": 1,
   "metadata": {
    "ExecuteTime": {
     "end_time": "2021-04-03T16:59:18.421826Z",
     "start_time": "2021-04-03T16:59:17.926555Z"
    }
   },
   "outputs": [],
   "source": [
    "import pandas as pd\n",
    "import pickle\n",
    "import plotly.express as px\n",
    "from jupyter_dash import JupyterDash\n",
    "import dash_core_components as dcc\n",
    "import dash_html_components as html\n",
    "from dash.dependencies import Input, Output\n",
    "from datetime import timedelta, datetime"
   ]
  },
  {
   "cell_type": "markdown",
   "metadata": {},
   "source": [
    "### Null values in `subsegmento` are filled with `N/A`, `valor_emprestado` is set as an attribute with type `int`, and the columns `desembolso` and `vencimento` are set to datetime type. Since now id values are unique, they are set as the index of the DataFrame."
   ]
  },
  {
   "cell_type": "code",
   "execution_count": 2,
   "metadata": {
    "ExecuteTime": {
     "end_time": "2021-04-03T17:01:52.064044Z",
     "start_time": "2021-04-03T17:01:42.714211Z"
    }
   },
   "outputs": [
    {
     "data": {
      "text/html": [
       "<div>\n",
       "<style scoped>\n",
       "    .dataframe tbody tr th:only-of-type {\n",
       "        vertical-align: middle;\n",
       "    }\n",
       "\n",
       "    .dataframe tbody tr th {\n",
       "        vertical-align: top;\n",
       "    }\n",
       "\n",
       "    .dataframe thead th {\n",
       "        text-align: right;\n",
       "    }\n",
       "</style>\n",
       "<table border=\"1\" class=\"dataframe\">\n",
       "  <thead>\n",
       "    <tr style=\"text-align: right;\">\n",
       "      <th></th>\n",
       "      <th>desembolso</th>\n",
       "      <th>vencimento</th>\n",
       "      <th>valor_emprestado</th>\n",
       "      <th>pgto_diario_esperado</th>\n",
       "      <th>subsegmento</th>\n",
       "      <th>y</th>\n",
       "    </tr>\n",
       "    <tr>\n",
       "      <th>id</th>\n",
       "      <th></th>\n",
       "      <th></th>\n",
       "      <th></th>\n",
       "      <th></th>\n",
       "      <th></th>\n",
       "      <th></th>\n",
       "    </tr>\n",
       "  </thead>\n",
       "  <tbody>\n",
       "    <tr>\n",
       "      <th>6</th>\n",
       "      <td>2019-03-25</td>\n",
       "      <td>2019-12-26</td>\n",
       "      <td>7100.0</td>\n",
       "      <td>33.8852</td>\n",
       "      <td>N/A</td>\n",
       "      <td>0</td>\n",
       "    </tr>\n",
       "    <tr>\n",
       "      <th>8</th>\n",
       "      <td>2019-03-25</td>\n",
       "      <td>2019-12-26</td>\n",
       "      <td>6900.0</td>\n",
       "      <td>32.9307</td>\n",
       "      <td>N/A</td>\n",
       "      <td>0</td>\n",
       "    </tr>\n",
       "    <tr>\n",
       "      <th>9</th>\n",
       "      <td>2019-03-25</td>\n",
       "      <td>2019-12-26</td>\n",
       "      <td>42500.0</td>\n",
       "      <td>175.5301</td>\n",
       "      <td>N/A</td>\n",
       "      <td>0</td>\n",
       "    </tr>\n",
       "    <tr>\n",
       "      <th>11</th>\n",
       "      <td>2019-03-25</td>\n",
       "      <td>2019-12-26</td>\n",
       "      <td>4200.0</td>\n",
       "      <td>19.2553</td>\n",
       "      <td>Alimentação Rápida</td>\n",
       "      <td>0</td>\n",
       "    </tr>\n",
       "    <tr>\n",
       "      <th>12</th>\n",
       "      <td>2019-03-06</td>\n",
       "      <td>2019-12-05</td>\n",
       "      <td>7700.0</td>\n",
       "      <td>34.0856</td>\n",
       "      <td>Bares e Restaurantes</td>\n",
       "      <td>0</td>\n",
       "    </tr>\n",
       "  </tbody>\n",
       "</table>\n",
       "</div>"
      ],
      "text/plain": [
       "   desembolso vencimento  valor_emprestado  pgto_diario_esperado  \\\n",
       "id                                                                 \n",
       "6  2019-03-25 2019-12-26            7100.0               33.8852   \n",
       "8  2019-03-25 2019-12-26            6900.0               32.9307   \n",
       "9  2019-03-25 2019-12-26           42500.0              175.5301   \n",
       "11 2019-03-25 2019-12-26            4200.0               19.2553   \n",
       "12 2019-03-06 2019-12-05            7700.0               34.0856   \n",
       "\n",
       "             subsegmento  y  \n",
       "id                           \n",
       "6                    N/A  0  \n",
       "8                    N/A  0  \n",
       "9                    N/A  0  \n",
       "11    Alimentação Rápida  0  \n",
       "12  Bares e Restaurantes  0  "
      ]
     },
     "execution_count": 2,
     "metadata": {},
     "output_type": "execute_result"
    }
   ],
   "source": [
    "with open('../data/processed/train_timeseries_attributes.p', 'rb') as handle:\n",
    "    dict_loan_timeseries = pickle.load(handle)\n",
    "\n",
    "df_loans = pd.read_csv('../data/processed/train_constant_attributes.csv')\n",
    "\n",
    "df_loans[\"desembolso\"] = pd.to_datetime(df_loans[\"desembolso\"], format=\"%Y-%m-%d\")\n",
    "df_loans[\"vencimento\"] = pd.to_datetime(df_loans[\"vencimento\"], format=\"%Y-%m-%d\")\n",
    "df_loans['subsegmento'].fillna('N/A', inplace=True)\n",
    "\n",
    "df_loans.index = df_loans['id']\n",
    "df_loans.drop(columns=['id'], inplace=True)\n",
    "df_loans.head()"
   ]
  },
  {
   "cell_type": "code",
   "execution_count": 3,
   "metadata": {
    "ExecuteTime": {
     "end_time": "2021-04-03T17:06:36.527234Z",
     "start_time": "2021-04-03T17:06:36.523780Z"
    }
   },
   "outputs": [],
   "source": [
    "# unique indexes\n",
    "unique_index = df_loans.index"
   ]
  },
  {
   "cell_type": "markdown",
   "metadata": {},
   "source": [
    "### Building App"
   ]
  },
  {
   "cell_type": "code",
   "execution_count": 4,
   "metadata": {
    "ExecuteTime": {
     "start_time": "2021-04-03T17:06:41.524Z"
    }
   },
   "outputs": [
    {
     "data": {
      "text/html": [
       "\n",
       "        <iframe\n",
       "            width=\"100%\"\n",
       "            height=\"650\"\n",
       "            src=\"http://127.0.0.1:8080/\"\n",
       "            frameborder=\"0\"\n",
       "            allowfullscreen\n",
       "        ></iframe>\n",
       "        "
      ],
      "text/plain": [
       "<IPython.lib.display.IFrame at 0x7efe5e8e7460>"
      ]
     },
     "metadata": {},
     "output_type": "display_data"
    }
   ],
   "source": [
    "app = JupyterDash(__name__, assets_folder='../assets')\n",
    "\n",
    "app.layout = html.Div([\n",
    "    html.Div(id='header-info', className='header-info'),\n",
    "    dcc.Dropdown(\n",
    "        id='company-id', clearable=False,\n",
    "        value=unique_index[0], options=[{'label': f'Loan ID: {index}', 'value': index}\n",
    "                                        for index in unique_index], className='dropdown-select-id'\n",
    "    ),\n",
    "    html.Div([\n",
    "        dcc.Graph(id='graph-debt', className='graph-id'),\n",
    "        dcc.Graph(id='graph-transaction-payment', className='graph-id')\n",
    "    ], className='container-graph-id'),\n",
    "\n",
    "    html.Div(id='table-const-id', className='table-hidden'),\n",
    "    html.Div(id='table-timeseries-id', className='table-hidden'),\n",
    "])\n",
    "\n",
    "\n",
    "@app.callback(\n",
    "    Output('table-const-id', 'children'),\n",
    "    Output('table-timeseries-id', 'children'),\n",
    "    Input('company-id', 'value')\n",
    ")\n",
    "def update_table(loan_id):\n",
    "    id_tmp_db_const = df_loans.loc[loan_id]\n",
    "    id_tmp_db_timeseries = dict_loan_timeseries[loan_id]\n",
    "\n",
    "    return id_tmp_db_const.to_json(date_format='iso', orient='split'), id_tmp_db_timeseries.to_json(date_format='iso', orient='split')\n",
    "\n",
    "\n",
    "def create_time_series(df, title):\n",
    "    fig = px.line(df, x='dia', y='value', color='variable', title=title)\n",
    "    fig.update_xaxes(showgrid=False)\n",
    "    fig.update_yaxes(title='Reais (R$)', visible=True, showticklabels=True)\n",
    "    fig.update_xaxes(title='', visible=True, showticklabels=True)\n",
    "    fig.update_layout(legend_orientation='h')\n",
    "    fig.update_layout(legend_title_text='')\n",
    "    fig.update_layout(height=300, margin={'l': 30, 'b': 30, 'r': 30, 't': 30})\n",
    "\n",
    "    day_first, _ = df['dia'].iloc[0].split('T')\n",
    "    day_ninety = datetime.strptime(day_first, '%Y-%m-%d') + timedelta(days=90)\n",
    "\n",
    "    fig.add_vline(x=day_ninety.timestamp() * 1000, line_width=3, line_dash=\"dash\",\n",
    "                  line_color=\"green\", annotation_text=\"90th day\", annotation_position=\"top right\")\n",
    "\n",
    "    return fig\n",
    "\n",
    "\n",
    "@app.callback(\n",
    "    Output('graph-debt', 'figure'),\n",
    "    Output('graph-transaction-payment', 'figure'),\n",
    "    Input('table-timeseries-id', 'children')\n",
    ")\n",
    "def update_figure(jsonified_db):\n",
    "    tmp_db = pd.read_json(jsonified_db, orient='split')\n",
    "\n",
    "    tmp_db_debt = pd.melt(tmp_db[['dia', 'divida_principal', 'divida_total']],\n",
    "                          id_vars=['dia'],\n",
    "                          value_vars=['divida_principal', 'divida_total'])\n",
    "\n",
    "    tmp_db_payment = pd.melt(tmp_db[['dia', 'transacionado', 'pagamento_diario', 'amortizacao_principal_diario']],\n",
    "                             id_vars=['dia'],\n",
    "                             value_vars=['transacionado', 'pagamento_diario', 'amortizacao_principal_diario'])\n",
    "\n",
    "    return create_time_series(tmp_db_debt, title=\"Loan Debt\"), create_time_series(tmp_db_payment, title=\"Transactions and Debt Payment\")\n",
    "\n",
    "\n",
    "@app.callback(\n",
    "    Output('header-info', 'children'),\n",
    "    Input('table-const-id', 'children')\n",
    ")\n",
    "def update_headers(jsonified_db):\n",
    "    tmp_db = pd.read_json(jsonified_db, orient='split', typ='series')\n",
    "    loan_contract, _ = tmp_db['desembolso'].split('T')\n",
    "    loan_overdue, _ = tmp_db['vencimento'].split('T')\n",
    "    subsegment = tmp_db['subsegmento']\n",
    "    valor_emprestado = tmp_db['valor_emprestado']\n",
    "    pgto_diario_esperado = tmp_db['pgto_diario_esperado']\n",
    "    default = 'Sim' if tmp_db['y'] else 'Nao'\n",
    "    return [\n",
    "        html.Div([\n",
    "            html.H4('Company Sector'),\n",
    "            html.H3(f'{subsegment}')], className='info-cards'),\n",
    "        html.Div([\n",
    "            html.H4('Default'),\n",
    "            html.H3(f'{default}')], className='info-cards'),\n",
    "        html.Div([\n",
    "            html.H4('Loan Value'),\n",
    "            html.H3(f'{valor_emprestado}')], className='info-cards'),\n",
    "        html.Div([\n",
    "            html.H4('Loan Contract'),\n",
    "            html.H3(f'{loan_contract}')], className='info-cards'),\n",
    "        html.Div([\n",
    "            html.H4('Expected Loan Over Due'),\n",
    "            html.H3(f'{loan_overdue}')], className='info-cards'),\n",
    "        html.Div([\n",
    "            html.H4('Expected Loan Daily Payment'),\n",
    "            html.H3(f'R$ {pgto_diario_esperado:.2f}')], className='info-cards')]\n",
    "\n",
    "\n",
    "# Run app and display result inline in the notebook\n",
    "app.run_server(mode='inline', port=8080, debug=True)"
   ]
  },
  {
   "cell_type": "code",
   "execution_count": 5,
   "metadata": {
    "scrolled": true
   },
   "outputs": [
    {
     "data": {
      "text/html": [
       "<div>\n",
       "<style scoped>\n",
       "    .dataframe tbody tr th:only-of-type {\n",
       "        vertical-align: middle;\n",
       "    }\n",
       "\n",
       "    .dataframe tbody tr th {\n",
       "        vertical-align: top;\n",
       "    }\n",
       "\n",
       "    .dataframe thead th {\n",
       "        text-align: right;\n",
       "    }\n",
       "</style>\n",
       "<table border=\"1\" class=\"dataframe\">\n",
       "  <thead>\n",
       "    <tr style=\"text-align: right;\">\n",
       "      <th></th>\n",
       "      <th>dia</th>\n",
       "      <th>dias_pos_desembolso</th>\n",
       "      <th>divida_total</th>\n",
       "      <th>divida_principal</th>\n",
       "      <th>pagamento_diario</th>\n",
       "      <th>amortizacao_principal_diario</th>\n",
       "      <th>transacionado</th>\n",
       "    </tr>\n",
       "  </thead>\n",
       "  <tbody>\n",
       "    <tr>\n",
       "      <th>0</th>\n",
       "      <td>2021-02-23</td>\n",
       "      <td>0</td>\n",
       "      <td>8802.32</td>\n",
       "      <td>8769.0</td>\n",
       "      <td>0.00</td>\n",
       "      <td>0.0</td>\n",
       "      <td>0.0</td>\n",
       "    </tr>\n",
       "    <tr>\n",
       "      <th>1</th>\n",
       "      <td>2021-02-24</td>\n",
       "      <td>1</td>\n",
       "      <td>8819.77</td>\n",
       "      <td>8769.0</td>\n",
       "      <td>0.00</td>\n",
       "      <td>0.0</td>\n",
       "      <td>0.0</td>\n",
       "    </tr>\n",
       "    <tr>\n",
       "      <th>2</th>\n",
       "      <td>2021-02-25</td>\n",
       "      <td>2</td>\n",
       "      <td>8814.18</td>\n",
       "      <td>8769.0</td>\n",
       "      <td>23.07</td>\n",
       "      <td>0.0</td>\n",
       "      <td>0.0</td>\n",
       "    </tr>\n",
       "    <tr>\n",
       "      <th>3</th>\n",
       "      <td>2021-02-26</td>\n",
       "      <td>3</td>\n",
       "      <td>8809.88</td>\n",
       "      <td>8769.0</td>\n",
       "      <td>21.77</td>\n",
       "      <td>0.0</td>\n",
       "      <td>0.0</td>\n",
       "    </tr>\n",
       "    <tr>\n",
       "      <th>4</th>\n",
       "      <td>2021-02-27</td>\n",
       "      <td>4</td>\n",
       "      <td>8827.34</td>\n",
       "      <td>8769.0</td>\n",
       "      <td>0.00</td>\n",
       "      <td>0.0</td>\n",
       "      <td>0.0</td>\n",
       "    </tr>\n",
       "    <tr>\n",
       "      <th>5</th>\n",
       "      <td>2021-02-28</td>\n",
       "      <td>5</td>\n",
       "      <td>8844.83</td>\n",
       "      <td>8769.0</td>\n",
       "      <td>0.00</td>\n",
       "      <td>0.0</td>\n",
       "      <td>0.0</td>\n",
       "    </tr>\n",
       "  </tbody>\n",
       "</table>\n",
       "</div>"
      ],
      "text/plain": [
       "          dia  dias_pos_desembolso  divida_total  divida_principal  \\\n",
       "0  2021-02-23                    0       8802.32            8769.0   \n",
       "1  2021-02-24                    1       8819.77            8769.0   \n",
       "2  2021-02-25                    2       8814.18            8769.0   \n",
       "3  2021-02-26                    3       8809.88            8769.0   \n",
       "4  2021-02-27                    4       8827.34            8769.0   \n",
       "5  2021-02-28                    5       8844.83            8769.0   \n",
       "\n",
       "   pagamento_diario  amortizacao_principal_diario  transacionado  \n",
       "0              0.00                           0.0            0.0  \n",
       "1              0.00                           0.0            0.0  \n",
       "2             23.07                           0.0            0.0  \n",
       "3             21.77                           0.0            0.0  \n",
       "4              0.00                           0.0            0.0  \n",
       "5              0.00                           0.0            0.0  "
      ]
     },
     "execution_count": 5,
     "metadata": {},
     "output_type": "execute_result"
    }
   ],
   "source": [
    "dict_loan_timeseries[59438]"
   ]
  }
 ],
 "metadata": {
  "kernelspec": {
   "display_name": "venv",
   "language": "python",
   "name": "venv"
  },
  "language_info": {
   "codemirror_mode": {
    "name": "ipython",
    "version": 3
   },
   "file_extension": ".py",
   "mimetype": "text/x-python",
   "name": "python",
   "nbconvert_exporter": "python",
   "pygments_lexer": "ipython3",
   "version": "3.8.5"
  },
  "varInspector": {
   "cols": {
    "lenName": 16,
    "lenType": 16,
    "lenVar": 40
   },
   "kernels_config": {
    "python": {
     "delete_cmd_postfix": "",
     "delete_cmd_prefix": "del ",
     "library": "var_list.py",
     "varRefreshCmd": "print(var_dic_list())"
    },
    "r": {
     "delete_cmd_postfix": ") ",
     "delete_cmd_prefix": "rm(",
     "library": "var_list.r",
     "varRefreshCmd": "cat(var_dic_list()) "
    }
   },
   "position": {
    "height": "297.713px",
    "left": "892.804px",
    "right": "20px",
    "top": "120px",
    "width": "331.009px"
   },
   "types_to_exclude": [
    "module",
    "function",
    "builtin_function_or_method",
    "instance",
    "_Feature"
   ],
   "window_display": false
  }
 },
 "nbformat": 4,
 "nbformat_minor": 2
}
